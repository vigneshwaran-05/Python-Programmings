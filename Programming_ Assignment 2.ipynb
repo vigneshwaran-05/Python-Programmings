{
 "cells": [
  {
   "cell_type": "code",
   "execution_count": 4,
   "metadata": {},
   "outputs": [
    {
     "name": "stdout",
     "output_type": "stream",
     "text": [
      "The converted miles distance is  [3.107520198881293, 1.8645121193287757, 1.2430080795525171, 3.7290242386575514, 0.6215040397762586]\n"
     ]
    }
   ],
   "source": [
    "#Write a Python program to convert kilometers to miles?\n",
    "# 1km = 0.621 miles.  we should divide the value by 1.609 approximately\n",
    "KMdist = [5,3,2,6,1]\n",
    "MILdist = []\n",
    "for i in KMdist:\n",
    "    i = i/1.609\n",
    "    MILdist.append(i)\n",
    "    \n",
    "print(\"The converted miles distance is \", MILdist)"
   ]
  },
  {
   "cell_type": "code",
   "execution_count": 8,
   "metadata": {},
   "outputs": [
    {
     "name": "stdout",
     "output_type": "stream",
     "text": [
      "The converted temperature valus is  [32.0, 77.0, 86.0, 167.0, 143.96]\n"
     ]
    }
   ],
   "source": [
    "#write a Python program to convert Celsius to Fahrenheit?\n",
    "\n",
    "\n",
    "CelTem = [0,25,30,75,62.2]\n",
    "FahTem = []\n",
    "\n",
    "for i in CelTem:\n",
    "    i = (i*1.8) + 32\n",
    "    FahTem.append(i)\n",
    "    \n",
    "print(\"The converted temperature valus is \",FahTem)"
   ]
  },
  {
   "cell_type": "code",
   "execution_count": 9,
   "metadata": {},
   "outputs": [
    {
     "name": "stdout",
     "output_type": "stream",
     "text": [
      " Enter the year : 2014\n",
      "Enter the month: 10\n",
      "The given calendar month is       October 2014\n",
      "Mo Tu We Th Fr Sa Su\n",
      "       1  2  3  4  5\n",
      " 6  7  8  9 10 11 12\n",
      "13 14 15 16 17 18 19\n",
      "20 21 22 23 24 25 26\n",
      "27 28 29 30 31\n",
      "\n"
     ]
    }
   ],
   "source": [
    "#Write a Python program to display calendar?\n",
    "\n",
    "import calendar\n",
    "yy = int(input(\" Enter the year : \"))\n",
    "\n",
    "mm = int(input(\"Enter the month: \"))\n",
    "\n",
    "print(\"The given calendar month is  \", calendar.month(yy,mm))"
   ]
  },
  {
   "cell_type": "code",
   "execution_count": 16,
   "metadata": {},
   "outputs": [
    {
     "name": "stdout",
     "output_type": "stream",
     "text": [
      "ENter the a value:1\n",
      "ENter b Value: 5\n",
      "ENter c value: 6\n",
      "The solutions are :(-3+0j) and (-2+0j) \n"
     ]
    }
   ],
   "source": [
    "#Write a Python program to solve quadratic equation?\n",
    "\n",
    "#quadratic equation is given by ax2+bx+c = 0\n",
    "\n",
    "#sol is given by (-b ± (b ** 2 - 4 * a * c) ** 0.5) / (2 * a)\n",
    "\n",
    "#importing complex method\n",
    "\n",
    "import cmath\n",
    "\n",
    "a = int(input(\"ENter the a value:\"))\n",
    "\n",
    "b = int(input(\"ENter b Value: \"))\n",
    "\n",
    "c = int(input(\"ENter c value: \"))\n",
    "\n",
    "dis = (b**2) - (4*a*c)\n",
    "\n",
    "# finding  two solutions\n",
    "sol1 = (-b-cmath.sqrt(dis))/(2*a)\n",
    "sol2 = (-b+cmath.sqrt(dis))/(2*a)\n",
    "\n",
    "\n",
    "print(\"The solutions are :{} and {} \".format(sol1,sol2))"
   ]
  },
  {
   "cell_type": "code",
   "execution_count": 17,
   "metadata": {},
   "outputs": [
    {
     "name": "stdout",
     "output_type": "stream",
     "text": [
      "Before swappinng the values of x and y are 5 and 7\n",
      "After swapping the values of x and y are 7 and 5\n"
     ]
    }
   ],
   "source": [
    "#Write a Python program to swap two variables without temp variable?\n",
    "\n",
    "x=5\n",
    "\n",
    "y=7\n",
    "\n",
    "print (\"Before swappinng the values of x and y are {} and {}\".format(x,y))\n",
    "\n",
    "#swapping\n",
    "\n",
    "x,y = y,x\n",
    "\n",
    "print(\"After swapping the values of x and y are {} and {}\".format(x,y))"
   ]
  },
  {
   "cell_type": "code",
   "execution_count": null,
   "metadata": {},
   "outputs": [],
   "source": []
  }
 ],
 "metadata": {
  "kernelspec": {
   "display_name": "Python 3",
   "language": "python",
   "name": "python3"
  },
  "language_info": {
   "codemirror_mode": {
    "name": "ipython",
    "version": 3
   },
   "file_extension": ".py",
   "mimetype": "text/x-python",
   "name": "python",
   "nbconvert_exporter": "python",
   "pygments_lexer": "ipython3",
   "version": "3.7.6"
  }
 },
 "nbformat": 4,
 "nbformat_minor": 4
}
